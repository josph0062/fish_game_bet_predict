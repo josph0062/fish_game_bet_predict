{
  "nbformat": 4,
  "nbformat_minor": 0,
  "metadata": {
    "colab": {
      "name": "WY捕魚押注行為即時分析.ipynb",
      "provenance": [],
      "collapsed_sections": [
        "nm2DSYec8BQR",
        "fh9KuRuauum9",
        "_b_gm3RdPsn0",
        "X2QvUPKWtWvF",
        "_t49v2jE3NC3",
        "aEolE0YDDC7i",
        "sW9UyN-yVzpY",
        "tNGKLjcZStMQ",
        "Ct7cGkp1SzvQ",
        "rlM8FxuJWveJ"
      ]
    },
    "kernelspec": {
      "name": "python3",
      "display_name": "Python 3"
    },
    "accelerator": "GPU"
  },
  "cells": [
    {
      "cell_type": "markdown",
      "metadata": {
        "id": "nm2DSYec8BQR",
        "colab_type": "text"
      },
      "source": [
        "# 導入資料"
      ]
    },
    {
      "cell_type": "code",
      "metadata": {
        "id": "WGmSQUkdSle0",
        "colab_type": "code",
        "colab": {}
      },
      "source": [
        "!apt-get install -y -qq software-properties-common python-software-properties module-init-tools\n",
        "!add-apt-repository -y ppa:alessandro-strada/ppa 2>&1 > /dev/null\n",
        "!apt-get update -qq 2>&1 > /dev/null\n",
        "!apt-get -y install -qq google-drive-ocamlfuse fuse\n",
        "from google.colab import auth\n",
        "auth.authenticate_user()\n",
        "from oauth2client.client import GoogleCredentials\n",
        "creds = GoogleCredentials.get_application_default()\n",
        "import getpass\n",
        "!google-drive-ocamlfuse -headless -id={creds.client_id} -secret={creds.client_secret} < /dev/null 2>&1 | grep URL\n",
        "vcode = getpass.getpass()\n",
        "!echo {vcode} | google-drive-ocamlfuse -headless -id={creds.client_id} -secret={creds.client_secret}\n"
      ],
      "execution_count": null,
      "outputs": []
    },
    {
      "cell_type": "code",
      "metadata": {
        "id": "PxCNfNMNTFKb",
        "colab_type": "code",
        "colab": {}
      },
      "source": [
        "# 指定Google Drive雲端硬碟的根目錄，名為drive\n",
        "!mkdir -p drive\n",
        "!google-drive-ocamlfuse drive"
      ],
      "execution_count": null,
      "outputs": []
    },
    {
      "cell_type": "code",
      "metadata": {
        "id": "wZdfjlXBUBI0",
        "colab_type": "code",
        "colab": {}
      },
      "source": [
        "# 指定當前工作夾\n",
        "import os\n",
        "# google drive中的檔案路徑,drive為之前指定的工作根目錄\n",
        "os.chdir(\"drive/Colab Notebooks\")"
      ],
      "execution_count": null,
      "outputs": []
    },
    {
      "cell_type": "code",
      "metadata": {
        "id": "3Tg1DHCFUEwy",
        "colab_type": "code",
        "colab": {}
      },
      "source": [
        "# 輸入資料\n",
        "import pandas as pd\n",
        "data = pd.read_csv(\"WY_fish_all_2019-12-29_wash.csv\",encoding='utf-8')\n",
        "data"
      ],
      "execution_count": null,
      "outputs": []
    },
    {
      "cell_type": "markdown",
      "metadata": {
        "id": "fh9KuRuauum9",
        "colab_type": "text"
      },
      "source": [
        "# 資料理解、特徵提取\n"
      ]
    },
    {
      "cell_type": "code",
      "metadata": {
        "id": "5LI_-NNiUEci",
        "colab_type": "code",
        "colab": {}
      },
      "source": [
        "import pandas as pd\n",
        "import numpy as np\n",
        "import matplotlib\n",
        "import matplotlib.pyplot as plt\n",
        "import seaborn as sns\n",
        "from pandas import DataFrame"
      ],
      "execution_count": null,
      "outputs": []
    },
    {
      "cell_type": "code",
      "metadata": {
        "id": "M4HB7GzAVdEs",
        "colab_type": "code",
        "colab": {}
      },
      "source": [
        "# 查看空值\n",
        "data.isna().sum()\n",
        "# 去空值\n",
        "data.dropna(axis=0, how='any', inplace=True)"
      ],
      "execution_count": null,
      "outputs": []
    },
    {
      "cell_type": "code",
      "metadata": {
        "id": "Q4KP2Pq9UEzS",
        "colab_type": "code",
        "colab": {}
      },
      "source": [
        "# 資料清洗\n",
        "data = data.drop(['next_outlay'],axis=1) # 預測下次是否會增加押注"
      ],
      "execution_count": null,
      "outputs": []
    },
    {
      "cell_type": "code",
      "metadata": {
        "id": "qC7K_whxUE2C",
        "colab_type": "code",
        "colab": {}
      },
      "source": [
        "# 看欄位型態\n",
        "print(data.dtypes)"
      ],
      "execution_count": null,
      "outputs": []
    },
    {
      "cell_type": "code",
      "metadata": {
        "id": "s1lC5Com06OB",
        "colab_type": "code",
        "colab": {}
      },
      "source": [
        "# 看分布狀況\n",
        "data.describe()"
      ],
      "execution_count": null,
      "outputs": []
    },
    {
      "cell_type": "code",
      "metadata": {
        "id": "kqbNmRLB1NO-",
        "colab_type": "code",
        "colab": {}
      },
      "source": [
        "# 資料視覺化\n",
        "df_for_plot = pd.concat([data['gameid'],data['next_outlay_will']], axis=1)\n",
        "fig,axes = plt.subplots(figsize=(6,12))\n",
        "fig = sns.boxplot(x=\"gameid\", y=\"next_outlay_will\", data=df_for_plot)\n",
        "fig.axis(ymin=0,ymax=3)"
      ],
      "execution_count": null,
      "outputs": []
    },
    {
      "cell_type": "code",
      "metadata": {
        "id": "9dicxKX33eHj",
        "colab_type": "code",
        "colab": {}
      },
      "source": [
        "df_for_plot = pd.concat([data['gameid'],data['backvalue']], axis=1)\n",
        "fig,axes = plt.subplots(figsize=(6,12))\n",
        "fig = sns.boxplot(x=\"gameid\", y=\"backvalue\", data=df_for_plot)\n",
        "fig.axis(ymin=0,ymax=3)"
      ],
      "execution_count": null,
      "outputs": []
    },
    {
      "cell_type": "code",
      "metadata": {
        "id": "-AEstP_nZyFq",
        "colab_type": "code",
        "colab": {}
      },
      "source": [
        "# 增加累計值時續性特徵\n",
        "data['add_addvalue_time'] = 0\n",
        "data[['add_addvalue_time']] = data[['add_addvalue_time']].astype('float64')  # 轉成float才能看小數點\n",
        "for i in range(len(data['add_addvalue'])):\n",
        "  data['add_addvalue_time'][i] = data['add_addvalue'][i]/data['time'][i]\n",
        "\n",
        "data['add_outlay_time'] = 0\n",
        "data[['add_outlay_time']] = data[['add_outlay_time']].astype('float64')    # 轉成float才能看小數點\n",
        "for i in range(len(data['add_outlay'])):\n",
        "  data['add_outlay_time'][i] = data['add_outlay'][i]/data['time'][i]\n",
        "\n",
        "data['add_outlay_percentage_time'] = 0\n",
        "data[['add_outlay_percentage_time']] = data[['add_outlay_percentage_time']].astype('float64')   # 轉成float才能看小數點\n",
        "for i in range(len(data['add_outlay_percentage'])):\n",
        "  data['add_outlay_percentage_time'][i] = data['add_outlay_percentage'][i]/data['time'][i]\n",
        "\n",
        "data['add_addvalue_percentage_time'] = 0\n",
        "data[['add_addvalue_percentage_time']] = data[['add_addvalue_percentage_time']].astype('float64')   # 轉成float才能看小數點\n",
        "for i in range(len(data['add_addvalue_percentage'])):\n",
        "  data['add_addvalue_percentage_time'][i] = data['add_addvalue_percentage'][i]/data['time'][i]"
      ],
      "execution_count": null,
      "outputs": []
    },
    {
      "cell_type": "code",
      "metadata": {
        "id": "sRDc6aPQMb0b",
        "colab_type": "code",
        "colab": {}
      },
      "source": [
        "# 依遊戲時間做間格\n",
        "def time_cut(time):\n",
        "  if time <= 5:\n",
        "    return 5\n",
        "  if 5 < time <= 10:\n",
        "    return 10\n",
        "  if 10 < time <= 15:\n",
        "    return 15\n",
        "  if 15 < time <= 20:\n",
        "    return 20\n",
        "  if 20 < time <= 25:\n",
        "    return 25\n",
        "  if 25 < time <= 30:\n",
        "    return 30\n",
        "  if 30 < time <= 35:\n",
        "    return 35\n",
        "  if 35 < time <= 40:\n",
        "    return 40\n",
        "  if 40 < time <= 45:\n",
        "    return 45\n",
        "  if 45 < time <= 50:\n",
        "    return 50\n",
        "  if 50 < time <= 55:\n",
        "    return 55  \n",
        "  if 55 <= time:\n",
        "    return 56   \n",
        "\n",
        "def time_add_cut(time):\n",
        "  if time <= 5:\n",
        "    return 5\n",
        "  if time <= 10:\n",
        "    return 10\n",
        "  if time <= 15:\n",
        "    return 15\n",
        "  if time <= 20:\n",
        "    return 20\n",
        "  if time <= 25:\n",
        "    return 25\n",
        "  if time <= 30:\n",
        "    return 30\n",
        "  if time <= 35:\n",
        "    return 35\n",
        "  if time <= 40:\n",
        "    return 40\n",
        "  if time <= 45:\n",
        "    return 45\n",
        "  if time <= 50:\n",
        "    return 50\n",
        "  if time <= 55:\n",
        "    return 55  \n",
        "  if 0 <= time:\n",
        "    return 56  \n",
        "\n",
        "data['time_zone'] = 0\n",
        "for i in range(len(data['time'])):\n",
        "  data['time_zone'][i] = time_cut(data['time'][i])\n"
      ],
      "execution_count": null,
      "outputs": []
    },
    {
      "cell_type": "code",
      "metadata": {
        "id": "sJJ7ytBG5Mbi",
        "colab_type": "code",
        "colab": {}
      },
      "source": [
        "# 將 next_outlay_will 分級(以四分位距分級)\n",
        "def will_level(data):\n",
        "  if data < 0.79:\n",
        "    return 1\n",
        "  if 0.79 <= data < 1:\n",
        "    return 2\n",
        "  if 1 <= data < 1.22:\n",
        "    return 3\n",
        "  if 1.22 <= data:\n",
        "    return 4\n",
        "\n",
        "data['outlay_will_level'] = 0\n",
        "for i in range(len(data['next_outlay_will'])):\n",
        "  data['outlay_will_level'][i] = will_level(data['next_outlay_will'][i])"
      ],
      "execution_count": null,
      "outputs": []
    },
    {
      "cell_type": "code",
      "metadata": {
        "id": "Ulk0K7KuRIOa",
        "colab_type": "code",
        "colab": {}
      },
      "source": [
        "# 將 next_outlay_will 分級(以四分位距分級)\n",
        "def will_level_loss(data):\n",
        "  if data < 0.51:\n",
        "    return 0\n",
        "  if 0.51 <= data:\n",
        "    return 1\n",
        "\n",
        "data['outlay_will_loss'] = 0\n",
        "for i in range(len(data['next_outlay_will'])):\n",
        "  data['outlay_will_loss'][i] = will_level_loss(data['next_outlay_will'][i])"
      ],
      "execution_count": null,
      "outputs": []
    },
    {
      "cell_type": "code",
      "metadata": {
        "id": "QgU3-Z5__D_4",
        "colab_type": "code",
        "colab": {}
      },
      "source": [
        "# 將 next_outlay_will 分數(以16分位距分級)\n",
        "def will_level_16(data):\n",
        "  if data < 0.18:\n",
        "    return 1\n",
        "  if 0.18 <= data < 0.51:\n",
        "    return 2\n",
        "  if 0.51 <= data < 0.68:\n",
        "    return 3\n",
        "  if 0.68 <= data < 0.79:\n",
        "    return 4\n",
        "  if 0.79 <= data < 0.84:\n",
        "    return 5\n",
        "  if 0.84 <= data < 0.91:\n",
        "    return 6\n",
        "  if 0.91 <= data < 0.96:\n",
        "    return 7\n",
        "  if 0.96 <= data < 1.00:\n",
        "    return 8\n",
        "  if 1.00 <= data < 1.01:\n",
        "    return 9\n",
        "  if 1.01 <= data < 1.05:\n",
        "    return 10\n",
        "  if 1.05 <= data < 1.13:\n",
        "    return 11\n",
        "  if 1.13 <= data < 1.22:\n",
        "    return 12\n",
        "  if 1.22 <= data < 1.34:\n",
        "    return 13\n",
        "  if 1.34 <= data < 1.58:\n",
        "    return 14\n",
        "  if 1.58 <= data < 2.24:\n",
        "    return 15\n",
        "  if 2.24 <= data:\n",
        "    return 16\n",
        "\n",
        "data['outlay_will_level_16'] = 0\n",
        "for i in range(len(data['next_outlay_will'])):\n",
        "  data['outlay_will_level_16'][i] = will_level_16(data['next_outlay_will'][i])\n",
        "  "
      ],
      "execution_count": null,
      "outputs": []
    },
    {
      "cell_type": "code",
      "metadata": {
        "id": "bu4FFiqv1z3B",
        "colab_type": "code",
        "colab": {}
      },
      "source": [
        "# 看變數影響權重\n",
        "import matplotlib.pyplot as plt\n",
        "%matplotlib inline\n",
        "import seaborn as sns\n",
        "plt.figure(figsize=(24,20))\n",
        "sns.heatmap(data.corr(), annot=True, cmap=\"RdBu_r\")"
      ],
      "execution_count": null,
      "outputs": []
    },
    {
      "cell_type": "markdown",
      "metadata": {
        "id": "_b_gm3RdPsn0",
        "colab_type": "text"
      },
      "source": [
        "# 時間觀察特徵_視覺化\n"
      ]
    },
    {
      "cell_type": "code",
      "metadata": {
        "id": "sqaqhPhwPw1Q",
        "colab_type": "code",
        "colab": {}
      },
      "source": [
        "# 遊戲時間切割視覺化\n",
        "# next_outlay_will\n",
        "df_for_plot = pd.concat([data['time_zone'],data['next_outlay_will']], axis=1)\n",
        "fig,axes = plt.subplots(figsize=(6,12))\n",
        "fig = sns.boxplot(x=\"time_zone\", y=\"next_outlay_will\", data=df_for_plot)\n",
        "fig.axis(ymin=0,ymax=2)"
      ],
      "execution_count": null,
      "outputs": []
    },
    {
      "cell_type": "code",
      "metadata": {
        "id": "mRZ2urasUNR_",
        "colab_type": "code",
        "colab": {}
      },
      "source": [
        "# backvalue\n",
        "df_for_plot = pd.concat([data['time_zone'],data['backvalue']], axis=1)\n",
        "fig,axes = plt.subplots(figsize=(6,12))\n",
        "fig = sns.boxplot(x=\"time_zone\", y=\"backvalue\", data=df_for_plot)\n",
        "fig.axis(ymin=0,ymax=2)"
      ],
      "execution_count": null,
      "outputs": []
    },
    {
      "cell_type": "code",
      "metadata": {
        "id": "y5XQzReaUmOV",
        "colab_type": "code",
        "colab": {}
      },
      "source": [
        "# add_backvalue\n",
        "df_for_plot = pd.concat([data['time_zone'],data['add_backvalue']], axis=1)\n",
        "fig,axes = plt.subplots(figsize=(6,12))\n",
        "fig = sns.boxplot(x=\"time_zone\", y=\"add_backvalue\", data=df_for_plot)\n",
        "fig.axis(ymin=0,ymax=2)\n"
      ],
      "execution_count": null,
      "outputs": []
    },
    {
      "cell_type": "code",
      "metadata": {
        "id": "PgBisLEyU6K8",
        "colab_type": "code",
        "colab": {}
      },
      "source": [
        "# add_addv_outlay_life\n",
        "df_for_plot = pd.concat([data['time_zone'],data['add_addv_outlay_life']], axis=1)\n",
        "fig,axes = plt.subplots(figsize=(6,12))\n",
        "fig = sns.boxplot(x=\"time_zone\", y=\"add_addv_outlay_life\", data=df_for_plot)\n",
        "fig.axis(ymin=0,ymax=100)"
      ],
      "execution_count": null,
      "outputs": []
    },
    {
      "cell_type": "code",
      "metadata": {
        "id": "llrDmul_VbQF",
        "colab_type": "code",
        "colab": {}
      },
      "source": [
        "# addvalue_percentage\n",
        "df_for_plot = pd.concat([data['time_zone'],data['addvalue_percentage']], axis=1)\n",
        "fig,axes = plt.subplots(figsize=(6,12))\n",
        "fig = sns.boxplot(x=\"time_zone\", y=\"addvalue_percentage\", data=df_for_plot)\n",
        "fig.axis(ymin=-0.5,ymax=0.5)"
      ],
      "execution_count": null,
      "outputs": []
    },
    {
      "cell_type": "code",
      "metadata": {
        "id": "5weNW0kgW2Vc",
        "colab_type": "code",
        "colab": {}
      },
      "source": [
        "# outlay_percentage\n",
        "df_for_plot = pd.concat([data['time_zone'],data['addvalue_percentage']], axis=1)\n",
        "fig,axes = plt.subplots(figsize=(6,12))\n",
        "fig = sns.boxplot(x=\"time_zone\", y=\"addvalue_percentage\", data=df_for_plot)\n",
        "fig.axis(ymin=-0.5,ymax=0.5)"
      ],
      "execution_count": null,
      "outputs": []
    },
    {
      "cell_type": "code",
      "metadata": {
        "id": "3_WM7RWmdl_a",
        "colab_type": "code",
        "colab": {}
      },
      "source": [
        "# add_addvalue_time\n",
        "df_for_plot = pd.concat([data['time_zone'],data['add_addvalue_time']], axis=1)\n",
        "fig,axes = plt.subplots(figsize=(6,12))\n",
        "fig = sns.boxplot(x=\"time_zone\", y=\"add_addvalue_time\", data=df_for_plot)\n",
        "fig.axis(ymin=-500,ymax=500)"
      ],
      "execution_count": null,
      "outputs": []
    },
    {
      "cell_type": "code",
      "metadata": {
        "id": "L994RB6HdmL3",
        "colab_type": "code",
        "colab": {}
      },
      "source": [
        "# add_outlay_time\n",
        "df_for_plot = pd.concat([data['time_zone'],data['add_outlay_time']], axis=1)\n",
        "fig,axes = plt.subplots(figsize=(6,12))\n",
        "fig = sns.boxplot(x=\"time_zone\", y=\"add_outlay_time\", data=df_for_plot)\n",
        "fig.axis(ymin=0,ymax=10000)"
      ],
      "execution_count": null,
      "outputs": []
    },
    {
      "cell_type": "code",
      "metadata": {
        "id": "e9bwSA-WdmSa",
        "colab_type": "code",
        "colab": {}
      },
      "source": [
        "# add_outlay_percentage_time\n",
        "df_for_plot = pd.concat([data['time_zone'],data['add_outlay_percentage_time']], axis=1)\n",
        "fig,axes = plt.subplots(figsize=(6,12))\n",
        "fig = sns.boxplot(x=\"time_zone\", y=\"add_outlay_percentage_time\", data=df_for_plot)\n",
        "fig.axis(ymin=0,ymax=1)"
      ],
      "execution_count": null,
      "outputs": []
    },
    {
      "cell_type": "code",
      "metadata": {
        "id": "jyb8pGCAdmY7",
        "colab_type": "code",
        "colab": {}
      },
      "source": [
        "# add_addvalue_percentage_time\n",
        "df_for_plot = pd.concat([data['time_zone'],data['add_addvalue_percentage_time']], axis=1)\n",
        "fig,axes = plt.subplots(figsize=(6,12))\n",
        "fig = sns.boxplot(x=\"time_zone\", y=\"add_addvalue_percentage_time\", data=df_for_plot)\n",
        "fig.axis(ymin=-0.25,ymax=0.25)"
      ],
      "execution_count": null,
      "outputs": []
    },
    {
      "cell_type": "markdown",
      "metadata": {
        "id": "X2QvUPKWtWvF",
        "colab_type": "text"
      },
      "source": [
        "# 分級觀察特徵\n"
      ]
    },
    {
      "cell_type": "code",
      "metadata": {
        "id": "qrGlg4snUxJK",
        "colab_type": "code",
        "colab": {}
      },
      "source": [
        "# oldvalue 分級視覺化\n",
        "df_for_plot = pd.concat([data['outlay_will_level'],data['oldvalue']/100], axis=1)\n",
        "fig,axes = plt.subplots(figsize=(6,12))\n",
        "fig = sns.boxplot(x=\"outlay_will_level\", y=\"oldvalue\", data=df_for_plot)\n",
        "fig.axis(ymin=0,ymax=1000)"
      ],
      "execution_count": null,
      "outputs": []
    },
    {
      "cell_type": "code",
      "metadata": {
        "id": "MOgyJ2rLtp1c",
        "colab_type": "code",
        "colab": {}
      },
      "source": [
        "# addvalue 分級視覺化\n",
        "df_for_plot = pd.concat([data['outlay_will_level'],data['addvalue']/100], axis=1)\n",
        "fig,axes = plt.subplots(figsize=(6,12))\n",
        "fig = sns.boxplot(x=\"outlay_will_level\", y=\"addvalue\", data=df_for_plot)\n",
        "fig.axis(ymin=-25,ymax=25)"
      ],
      "execution_count": null,
      "outputs": []
    },
    {
      "cell_type": "code",
      "metadata": {
        "id": "Tnzvo7SvuCUT",
        "colab_type": "code",
        "colab": {}
      },
      "source": [
        "# outlay 分級視覺化\n",
        "df_for_plot = pd.concat([data['outlay_will_level'],data['outlay']/100], axis=1)\n",
        "fig,axes = plt.subplots(figsize=(6,12))\n",
        "fig = sns.boxplot(x=\"outlay_will_level\", y=\"outlay\", data=df_for_plot)\n",
        "fig.axis(ymin=0,ymax=100)"
      ],
      "execution_count": null,
      "outputs": []
    },
    {
      "cell_type": "code",
      "metadata": {
        "id": "Qc0VfEzUubjN",
        "colab_type": "code",
        "colab": {}
      },
      "source": [
        "# income 分級視覺化\n",
        "df_for_plot = pd.concat([data['outlay_will_level'],data['income']/100], axis=1)\n",
        "fig,axes = plt.subplots(figsize=(6,12))\n",
        "fig = sns.boxplot(x=\"outlay_will_level\", y=\"income\", data=df_for_plot)\n",
        "fig.axis(ymin=0,ymax=100)"
      ],
      "execution_count": null,
      "outputs": []
    },
    {
      "cell_type": "code",
      "metadata": {
        "id": "lIjpnnp8vlV0",
        "colab_type": "code",
        "colab": {}
      },
      "source": [
        "# add_addvalue 分級視覺化\n",
        "df_for_plot = pd.concat([data['outlay_will_level'],data['add_addvalue']/100], axis=1)\n",
        "fig,axes = plt.subplots(figsize=(6,12))\n",
        "fig = sns.boxplot(x=\"outlay_will_level\", y=\"add_addvalue\", data=df_for_plot)\n",
        "fig.axis(ymin=-5000,ymax=5000)"
      ],
      "execution_count": null,
      "outputs": []
    },
    {
      "cell_type": "code",
      "metadata": {
        "id": "HBLUwh1svla1",
        "colab_type": "code",
        "colab": {}
      },
      "source": [
        "# add_outlay 分級視覺化\n",
        "df_for_plot = pd.concat([data['outlay_will_level'],data['add_outlay']/100], axis=1)\n",
        "fig,axes = plt.subplots(figsize=(6,12))\n",
        "fig = sns.boxplot(x=\"outlay_will_level\", y=\"add_outlay\", data=df_for_plot)\n",
        "fig.axis(ymin=0,ymax=200000)"
      ],
      "execution_count": null,
      "outputs": []
    },
    {
      "cell_type": "code",
      "metadata": {
        "id": "BKrC9ODMvld8",
        "colab_type": "code",
        "colab": {}
      },
      "source": [
        "# add_income 分級視覺化\n",
        "df_for_plot = pd.concat([data['outlay_will_level'],data['add_income']/100], axis=1)\n",
        "fig,axes = plt.subplots(figsize=(6,12))\n",
        "fig = sns.boxplot(x=\"outlay_will_level\", y=\"add_income\", data=df_for_plot)\n",
        "fig.axis(ymin=0,ymax=200000)"
      ],
      "execution_count": null,
      "outputs": []
    },
    {
      "cell_type": "code",
      "metadata": {
        "id": "UuEYwL42xqTO",
        "colab_type": "code",
        "colab": {}
      },
      "source": [
        "# backvalue 分級視覺化\n",
        "df_for_plot = pd.concat([data['outlay_will_level'],data['backvalue']], axis=1)\n",
        "fig,axes = plt.subplots(figsize=(6,12))\n",
        "fig = sns.boxplot(x=\"outlay_will_level\", y=\"backvalue\", data=df_for_plot)\n",
        "fig.axis(ymin=0,ymax=2)"
      ],
      "execution_count": null,
      "outputs": []
    },
    {
      "cell_type": "code",
      "metadata": {
        "id": "mxiOyA65xqck",
        "colab_type": "code",
        "colab": {}
      },
      "source": [
        "# add_backvalue 分級視覺化\n",
        "df_for_plot = pd.concat([data['outlay_will_level'],data['add_backvalue']], axis=1)\n",
        "fig,axes = plt.subplots(figsize=(6,12))\n",
        "fig = sns.boxplot(x=\"outlay_will_level\", y=\"add_backvalue\", data=df_for_plot)\n",
        "fig.axis(ymin=0.85,ymax=1.15)"
      ],
      "execution_count": null,
      "outputs": []
    },
    {
      "cell_type": "code",
      "metadata": {
        "id": "cmLCXAT-xqmc",
        "colab_type": "code",
        "colab": {}
      },
      "source": [
        "# outlay_percentage 分級視覺化\n",
        "df_for_plot = pd.concat([data['outlay_will_level'],data['outlay_percentage']], axis=1)\n",
        "fig,axes = plt.subplots(figsize=(6,12))\n",
        "fig = sns.boxplot(x=\"outlay_will_level\", y=\"outlay_percentage\", data=df_for_plot)\n",
        "fig.axis(ymin=0,ymax=1)"
      ],
      "execution_count": null,
      "outputs": []
    },
    {
      "cell_type": "code",
      "metadata": {
        "id": "MFQG50X_zAcf",
        "colab_type": "code",
        "colab": {}
      },
      "source": [
        "# add_outlay_percentage 分級視覺化\n",
        "df_for_plot = pd.concat([data['outlay_will_level'],data['add_outlay_percentage']], axis=1)\n",
        "fig,axes = plt.subplots(figsize=(6,12))\n",
        "fig = sns.boxplot(x=\"outlay_will_level\", y=\"add_outlay_percentage\", data=df_for_plot)\n",
        "fig.axis(ymin=0,ymax=2500)"
      ],
      "execution_count": null,
      "outputs": []
    },
    {
      "cell_type": "code",
      "metadata": {
        "id": "W01rbYPTzAfu",
        "colab_type": "code",
        "colab": {}
      },
      "source": [
        "# addvalue_percentage 分級視覺化\n",
        "df_for_plot = pd.concat([data['outlay_will_level'],data['addvalue_percentage']], axis=1)\n",
        "fig,axes = plt.subplots(figsize=(6,12))\n",
        "fig = sns.boxplot(x=\"outlay_will_level\", y=\"addvalue_percentage\", data=df_for_plot)\n",
        "fig.axis(ymin=-0.5,ymax=0.5)"
      ],
      "execution_count": null,
      "outputs": []
    },
    {
      "cell_type": "code",
      "metadata": {
        "id": "c33bs3x3zAzl",
        "colab_type": "code",
        "colab": {}
      },
      "source": [
        "# add_addvalue_percentage 分級視覺化\n",
        "df_for_plot = pd.concat([data['outlay_will_level'],data['add_addvalue_percentage']], axis=1)\n",
        "fig,axes = plt.subplots(figsize=(6,12))\n",
        "fig = sns.boxplot(x=\"outlay_will_level\", y=\"add_addvalue_percentage\", data=df_for_plot)\n",
        "fig.axis(ymin=-100,ymax=100)"
      ],
      "execution_count": null,
      "outputs": []
    },
    {
      "cell_type": "code",
      "metadata": {
        "id": "ijlAPHH20SvQ",
        "colab_type": "code",
        "colab": {}
      },
      "source": [
        "# time 分級視覺化\n",
        "df_for_plot = pd.concat([data['outlay_will_level'],data['time']], axis=1)\n",
        "fig,axes = plt.subplots(figsize=(6,12))\n",
        "fig = sns.boxplot(x=\"outlay_will_level\", y=\"time\", data=df_for_plot)\n",
        "fig.axis(ymin=0,ymax=5000)"
      ],
      "execution_count": null,
      "outputs": []
    },
    {
      "cell_type": "code",
      "metadata": {
        "id": "kBVOOY7Y0vnN",
        "colab_type": "code",
        "colab": {}
      },
      "source": [
        "# add_addv_outlay_life 分級視覺化\n",
        "df_for_plot = pd.concat([data['outlay_will_level'],data['add_addv_outlay_life']], axis=1)\n",
        "fig,axes = plt.subplots(figsize=(6,12))\n",
        "fig = sns.boxplot(x=\"outlay_will_level\", y=\"add_addv_outlay_life\", data=df_for_plot)\n",
        "fig.axis(ymin=0,ymax=100)"
      ],
      "execution_count": null,
      "outputs": []
    },
    {
      "cell_type": "markdown",
      "metadata": {
        "id": "_t49v2jE3NC3",
        "colab_type": "text"
      },
      "source": [
        "# 易流失玩家行為分析\n"
      ]
    },
    {
      "cell_type": "code",
      "metadata": {
        "id": "W3oNM2-u3XnB",
        "colab_type": "code",
        "colab": {}
      },
      "source": [
        "# 分級拉出資料\n",
        "data1 = data[data[\"outlay_will_level\"]==1]\n",
        "data2 = data[data[\"outlay_will_level\"]==2]\n",
        "data3 = data[data[\"outlay_will_level\"]==3]\n",
        "data4 = data[data[\"outlay_will_level\"]==4]"
      ],
      "execution_count": null,
      "outputs": []
    },
    {
      "cell_type": "code",
      "metadata": {
        "id": "t8KP_Qfg31w7",
        "colab_type": "code",
        "colab": {}
      },
      "source": [
        "data.describe()"
      ],
      "execution_count": null,
      "outputs": []
    },
    {
      "cell_type": "code",
      "metadata": {
        "id": "LPXD-0zI7HCr",
        "colab_type": "code",
        "colab": {}
      },
      "source": [
        "data1.describe()"
      ],
      "execution_count": null,
      "outputs": []
    },
    {
      "cell_type": "code",
      "metadata": {
        "id": "Bz30R_eFDMMa",
        "colab_type": "code",
        "colab": {}
      },
      "source": [
        "data2.describe()"
      ],
      "execution_count": null,
      "outputs": []
    },
    {
      "cell_type": "code",
      "metadata": {
        "id": "curok7xN969H",
        "colab_type": "code",
        "colab": {}
      },
      "source": [
        "data3.describe()"
      ],
      "execution_count": null,
      "outputs": []
    },
    {
      "cell_type": "code",
      "metadata": {
        "id": "pIk-B10297OU",
        "colab_type": "code",
        "colab": {}
      },
      "source": [
        "data4.describe()"
      ],
      "execution_count": null,
      "outputs": []
    },
    {
      "cell_type": "markdown",
      "metadata": {
        "id": "aEolE0YDDC7i",
        "colab_type": "text"
      },
      "source": [
        "# 分級觀察特徵(16分位)"
      ]
    },
    {
      "cell_type": "code",
      "metadata": {
        "colab_type": "code",
        "id": "cxgS0mukF4NT",
        "colab": {}
      },
      "source": [
        "# oldvalue 分級視覺化\n",
        "df_for_plot = pd.concat([data['outlay_will_level_16'],data['oldvalue']/100], axis=1)\n",
        "fig,axes = plt.subplots(figsize=(6,12))\n",
        "fig = sns.boxplot(x=\"outlay_will_level_16\", y=\"oldvalue\", data=df_for_plot)\n",
        "fig.axis(ymin=0,ymax=1000)"
      ],
      "execution_count": null,
      "outputs": []
    },
    {
      "cell_type": "code",
      "metadata": {
        "colab_type": "code",
        "id": "a43tEsA9F4NV",
        "colab": {}
      },
      "source": [
        "# addvalue 分級視覺化\n",
        "df_for_plot = pd.concat([data['outlay_will_level_16'],data['addvalue']/100], axis=1)\n",
        "fig,axes = plt.subplots(figsize=(6,12))\n",
        "fig = sns.boxplot(x=\"outlay_will_level_16\", y=\"addvalue\", data=df_for_plot)\n",
        "fig.axis(ymin=-25,ymax=25)"
      ],
      "execution_count": null,
      "outputs": []
    },
    {
      "cell_type": "code",
      "metadata": {
        "colab_type": "code",
        "id": "-maTZnbZF4NX",
        "colab": {}
      },
      "source": [
        "# outlay 分級視覺化\n",
        "df_for_plot = pd.concat([data['outlay_will_level_16'],data['outlay']/100], axis=1)\n",
        "fig,axes = plt.subplots(figsize=(6,12))\n",
        "fig = sns.boxplot(x=\"outlay_will_level_16\", y=\"outlay\", data=df_for_plot)\n",
        "fig.axis(ymin=0,ymax=100)"
      ],
      "execution_count": null,
      "outputs": []
    },
    {
      "cell_type": "code",
      "metadata": {
        "colab_type": "code",
        "id": "OO6U8V-IF4NY",
        "colab": {}
      },
      "source": [
        "# income 分級視覺化\n",
        "df_for_plot = pd.concat([data['outlay_will_level_16'],data['income']/100], axis=1)\n",
        "fig,axes = plt.subplots(figsize=(6,12))\n",
        "fig = sns.boxplot(x=\"outlay_will_level_16\", y=\"income\", data=df_for_plot)\n",
        "fig.axis(ymin=0,ymax=100)"
      ],
      "execution_count": null,
      "outputs": []
    },
    {
      "cell_type": "code",
      "metadata": {
        "colab_type": "code",
        "id": "qMq-cQ4aF4Na",
        "colab": {}
      },
      "source": [
        "# add_addvalue 分級視覺化\n",
        "df_for_plot = pd.concat([data['outlay_will_level_16'],data['add_addvalue']/100], axis=1)\n",
        "fig,axes = plt.subplots(figsize=(6,12))\n",
        "fig = sns.boxplot(x=\"outlay_will_level_16\", y=\"add_addvalue\", data=df_for_plot)\n",
        "fig.axis(ymin=-5000,ymax=5000)"
      ],
      "execution_count": null,
      "outputs": []
    },
    {
      "cell_type": "code",
      "metadata": {
        "colab_type": "code",
        "id": "0NjgV-7cF4Nb",
        "colab": {}
      },
      "source": [
        "# add_outlay 分級視覺化\n",
        "df_for_plot = pd.concat([data['outlay_will_level_16'],data['add_outlay']/100], axis=1)\n",
        "fig,axes = plt.subplots(figsize=(6,12))\n",
        "fig = sns.boxplot(x=\"outlay_will_level_16\", y=\"add_outlay\", data=df_for_plot)\n",
        "fig.axis(ymin=0,ymax=200000)"
      ],
      "execution_count": null,
      "outputs": []
    },
    {
      "cell_type": "code",
      "metadata": {
        "colab_type": "code",
        "id": "bT0jHF3qF4Nd",
        "colab": {}
      },
      "source": [
        "# add_income 分級視覺化\n",
        "df_for_plot = pd.concat([data['outlay_will_level_16'],data['add_income']/100], axis=1)\n",
        "fig,axes = plt.subplots(figsize=(6,12))\n",
        "fig = sns.boxplot(x=\"outlay_will_level_16\", y=\"add_income\", data=df_for_plot)\n",
        "fig.axis(ymin=0,ymax=200000)"
      ],
      "execution_count": null,
      "outputs": []
    },
    {
      "cell_type": "code",
      "metadata": {
        "colab_type": "code",
        "id": "H7lnVYArF4Ne",
        "colab": {}
      },
      "source": [
        "# backvalue 分級視覺化\n",
        "df_for_plot = pd.concat([data['outlay_will_level_16'],data['backvalue']], axis=1)\n",
        "fig,axes = plt.subplots(figsize=(6,12))\n",
        "fig = sns.boxplot(x=\"outlay_will_level_16\", y=\"backvalue\", data=df_for_plot)\n",
        "fig.axis(ymin=0,ymax=2)"
      ],
      "execution_count": null,
      "outputs": []
    },
    {
      "cell_type": "code",
      "metadata": {
        "colab_type": "code",
        "id": "I0WGZLF2F4Ng",
        "colab": {}
      },
      "source": [
        "# add_backvalue 分級視覺化\n",
        "df_for_plot = pd.concat([data['outlay_will_level_16'],data['add_backvalue']], axis=1)\n",
        "fig,axes = plt.subplots(figsize=(6,12))\n",
        "fig = sns.boxplot(x=\"outlay_will_level_16\", y=\"add_backvalue\", data=df_for_plot)\n",
        "fig.axis(ymin=0.85,ymax=1.15)"
      ],
      "execution_count": null,
      "outputs": []
    },
    {
      "cell_type": "code",
      "metadata": {
        "colab_type": "code",
        "id": "SNAiU2H5F4Nh",
        "colab": {}
      },
      "source": [
        "# outlay_percentage 分級視覺化\n",
        "df_for_plot = pd.concat([data['outlay_will_level_16'],data['outlay_percentage']], axis=1)\n",
        "fig,axes = plt.subplots(figsize=(6,12))\n",
        "fig = sns.boxplot(x=\"outlay_will_level_16\", y=\"outlay_percentage\", data=df_for_plot)\n",
        "fig.axis(ymin=0,ymax=1)"
      ],
      "execution_count": null,
      "outputs": []
    },
    {
      "cell_type": "code",
      "metadata": {
        "colab_type": "code",
        "id": "4DYECAyRF4Nj",
        "colab": {}
      },
      "source": [
        "# add_outlay_percentage 分級視覺化\n",
        "df_for_plot = pd.concat([data['outlay_will_level_16'],data['add_outlay_percentage']], axis=1)\n",
        "fig,axes = plt.subplots(figsize=(6,12))\n",
        "fig = sns.boxplot(x=\"outlay_will_level_16\", y=\"add_outlay_percentage\", data=df_for_plot)\n",
        "fig.axis(ymin=0,ymax=2500)"
      ],
      "execution_count": null,
      "outputs": []
    },
    {
      "cell_type": "code",
      "metadata": {
        "colab_type": "code",
        "id": "pkExbChNF4Nk",
        "colab": {}
      },
      "source": [
        "# addvalue_percentage 分級視覺化\n",
        "df_for_plot = pd.concat([data['outlay_will_level_16'],data['addvalue_percentage']], axis=1)\n",
        "fig,axes = plt.subplots(figsize=(6,12))\n",
        "fig = sns.boxplot(x=\"outlay_will_level_16\", y=\"addvalue_percentage\", data=df_for_plot)\n",
        "fig.axis(ymin=-0.5,ymax=0.5)"
      ],
      "execution_count": null,
      "outputs": []
    },
    {
      "cell_type": "code",
      "metadata": {
        "colab_type": "code",
        "id": "2Lb6zwJcF4Nl",
        "colab": {}
      },
      "source": [
        "# add_addvalue_percentage 分級視覺化\n",
        "df_for_plot = pd.concat([data['outlay_will_level_16'],data['add_addvalue_percentage']], axis=1)\n",
        "fig,axes = plt.subplots(figsize=(6,12))\n",
        "fig = sns.boxplot(x=\"outlay_will_level_16\", y=\"add_addvalue_percentage\", data=df_for_plot)\n",
        "fig.axis(ymin=-100,ymax=100)"
      ],
      "execution_count": null,
      "outputs": []
    },
    {
      "cell_type": "code",
      "metadata": {
        "colab_type": "code",
        "id": "V48JQwi4F4Nn",
        "colab": {}
      },
      "source": [
        "# time 分級視覺化\n",
        "df_for_plot = pd.concat([data['outlay_will_level_16'],data['time']], axis=1)\n",
        "fig,axes = plt.subplots(figsize=(6,12))\n",
        "fig = sns.boxplot(x=\"outlay_will_level_16\", y=\"time\", data=df_for_plot)\n",
        "fig.axis(ymin=0,ymax=5000)"
      ],
      "execution_count": null,
      "outputs": []
    },
    {
      "cell_type": "code",
      "metadata": {
        "colab_type": "code",
        "id": "6MmQVyidF4No",
        "colab": {}
      },
      "source": [
        "# add_addv_outlay_life 分級視覺化\n",
        "df_for_plot = pd.concat([data['outlay_will_level_16'],data['add_addv_outlay_life']], axis=1)\n",
        "fig,axes = plt.subplots(figsize=(6,12))\n",
        "fig = sns.boxplot(x=\"outlay_will_level_16\", y=\"add_addv_outlay_life\", data=df_for_plot)\n",
        "fig.axis(ymin=0,ymax=100)"
      ],
      "execution_count": null,
      "outputs": []
    },
    {
      "cell_type": "markdown",
      "metadata": {
        "id": "sXqRO6PD7Wb4",
        "colab_type": "text"
      },
      "source": [
        "# 模型前處理"
      ]
    },
    {
      "cell_type": "code",
      "metadata": {
        "colab_type": "code",
        "id": "HMF5A7KNBZ6W",
        "colab": {}
      },
      "source": [
        "# 轉換數值型態(區分類別,數值)\n",
        "data[['gameid']] = data[['gameid']].astype('category')   # 選取需轉換之欄位"
      ],
      "execution_count": null,
      "outputs": []
    },
    {
      "cell_type": "code",
      "metadata": {
        "colab_type": "code",
        "id": "WmAJ5BHaBZ6k",
        "colab": {}
      },
      "source": [
        "# 類別轉化\n",
        "data = pd.get_dummies(data)\n",
        "data1 = data.drop(['next_outlay_will','playerid','outlay_will_level','outlay_will_level_16','time_zone'], axis=1) # 已經分級 去掉連續值\n",
        "data1"
      ],
      "execution_count": null,
      "outputs": []
    },
    {
      "cell_type": "code",
      "metadata": {
        "colab_type": "code",
        "id": "whA3rZDZBZ6o",
        "colab": {}
      },
      "source": [
        "# 切分訓練測試集\n",
        "from sklearn.model_selection import train_test_split\n",
        "y = data1['outlay_will_loss']           # 填入預測目的欄位\n",
        "x = data1.drop('outlay_will_loss', axis=1)    # 將目的欄位去除，留下其他欄位做模型訓練\n",
        "x_train,x_test,y_train,y_test = train_test_split(x, y, test_size=0.1, random_state=42)"
      ],
      "execution_count": null,
      "outputs": []
    },
    {
      "cell_type": "markdown",
      "metadata": {
        "id": "WWeu_0K5px55",
        "colab_type": "text"
      },
      "source": [
        "# 資料清洗"
      ]
    },
    {
      "cell_type": "code",
      "metadata": {
        "id": "N0OGId0cp8tQ",
        "colab_type": "code",
        "colab": {}
      },
      "source": [
        "# 資料分布做圖\n",
        "# oldvalue\n",
        "sns.regplot(x=x_train[\"oldvalue\"]/100,y=x_train[\"next_outlay_will\"])"
      ],
      "execution_count": null,
      "outputs": []
    },
    {
      "cell_type": "code",
      "metadata": {
        "id": "iSz_xhT5rKPR",
        "colab_type": "code",
        "colab": {}
      },
      "source": [
        "# addvalue\n",
        "sns.regplot(x=x_train[\"addvalue\"]/100,y=x_train[\"next_outlay_will\"])"
      ],
      "execution_count": null,
      "outputs": []
    },
    {
      "cell_type": "code",
      "metadata": {
        "id": "R_8Xsmhesv8H",
        "colab_type": "code",
        "colab": {}
      },
      "source": [
        "# outlay\n",
        "sns.regplot(x=x_train[\"outlay\"]/100,y=x_train[\"next_outlay_will\"])"
      ],
      "execution_count": null,
      "outputs": []
    },
    {
      "cell_type": "code",
      "metadata": {
        "id": "Goz_P89PuWr_",
        "colab_type": "code",
        "colab": {}
      },
      "source": [
        "# add_addvalue\n",
        "sns.regplot(x=x_train[\"add_addvalue\"]/100,y=x_train[\"next_outlay_will\"])"
      ],
      "execution_count": null,
      "outputs": []
    },
    {
      "cell_type": "code",
      "metadata": {
        "id": "-na3eN7cuurd",
        "colab_type": "code",
        "colab": {}
      },
      "source": [
        "# add_outlay\n",
        "sns.regplot(x=x_train[\"add_outlay\"]/100,y=x_train[\"next_outlay_will\"])"
      ],
      "execution_count": null,
      "outputs": []
    },
    {
      "cell_type": "code",
      "metadata": {
        "id": "crsLRSnFvMcF",
        "colab_type": "code",
        "colab": {}
      },
      "source": [
        "# backvalue\n",
        "sns.regplot(x=x_train[\"backvalue\"],y=x_train[\"next_outlay_will\"])"
      ],
      "execution_count": null,
      "outputs": []
    },
    {
      "cell_type": "code",
      "metadata": {
        "id": "I4NVPJG7vSKu",
        "colab_type": "code",
        "colab": {}
      },
      "source": [
        "# add_backvalue\n",
        "sns.regplot(x=x_train[\"add_backvalue\"],y=x_train[\"next_outlay_will\"])"
      ],
      "execution_count": null,
      "outputs": []
    },
    {
      "cell_type": "code",
      "metadata": {
        "id": "CDphVqa0wpNz",
        "colab_type": "code",
        "colab": {}
      },
      "source": [
        "# outlay_percentage\n",
        "sns.regplot(x=x_train[\"outlay_percentage\"],y=x_train[\"next_outlay_will\"])"
      ],
      "execution_count": null,
      "outputs": []
    },
    {
      "cell_type": "code",
      "metadata": {
        "id": "s97BBNXpxRFV",
        "colab_type": "code",
        "colab": {}
      },
      "source": [
        "# add_outlay_percentage\n",
        "sns.regplot(x=x_train[\"add_outlay_percentage\"]/1000,y=x_train[\"next_outlay_will\"])"
      ],
      "execution_count": null,
      "outputs": []
    },
    {
      "cell_type": "code",
      "metadata": {
        "id": "YYuZuPEtxgHr",
        "colab_type": "code",
        "colab": {}
      },
      "source": [
        "# addvalue_percentage\n",
        "sns.regplot(x=x_train[\"addvalue_percentage\"],y=x_train[\"next_outlay_will\"])"
      ],
      "execution_count": null,
      "outputs": []
    },
    {
      "cell_type": "code",
      "metadata": {
        "id": "Ip37kI55y64U",
        "colab_type": "code",
        "colab": {}
      },
      "source": [
        "# add_addvalue_percentage\n",
        "sns.regplot(x=x_train[\"add_addvalue_percentage\"],y=x_train[\"next_outlay_will\"])"
      ],
      "execution_count": null,
      "outputs": []
    },
    {
      "cell_type": "code",
      "metadata": {
        "id": "cmkg72780gsq",
        "colab_type": "code",
        "colab": {}
      },
      "source": [
        "# time\n",
        "sns.regplot(x=x_train[\"time\"],y=x_train[\"next_outlay_will\"])"
      ],
      "execution_count": null,
      "outputs": []
    },
    {
      "cell_type": "code",
      "metadata": {
        "id": "bMSZX1Lc1U1q",
        "colab_type": "code",
        "colab": {}
      },
      "source": [
        "# add_addv_outlay_life\n",
        "sns.regplot(x=x_train[\"add_addv_outlay_life\"]/10000,y=x_train[\"next_outlay_will\"])"
      ],
      "execution_count": null,
      "outputs": []
    },
    {
      "cell_type": "code",
      "metadata": {
        "id": "vXQmcY9VjLE4",
        "colab_type": "code",
        "colab": {}
      },
      "source": [
        "# add_addvalue_percentage_time\n",
        "sns.regplot(x=x_train[\"time\"],y=x_train[\"add_addvalue_percentage_time\"])"
      ],
      "execution_count": null,
      "outputs": []
    },
    {
      "cell_type": "code",
      "metadata": {
        "id": "O4IFVJDo3CeZ",
        "colab_type": "code",
        "colab": {}
      },
      "source": [
        "# 去除離群值"
      ],
      "execution_count": null,
      "outputs": []
    },
    {
      "cell_type": "code",
      "metadata": {
        "id": "BY-suqXIqapI",
        "colab_type": "code",
        "colab": {}
      },
      "source": [
        "data.describe()"
      ],
      "execution_count": null,
      "outputs": []
    },
    {
      "cell_type": "markdown",
      "metadata": {
        "id": "sW9UyN-yVzpY",
        "colab_type": "text"
      },
      "source": [
        "# 資料不平衡(outlay_will_loss)"
      ]
    },
    {
      "cell_type": "code",
      "metadata": {
        "id": "amt2FoSzRqux",
        "colab_type": "code",
        "colab": {}
      },
      "source": [
        "# 資料不平衡\n",
        "# 過採樣\n",
        "from imblearn.over_sampling import RandomOverSampler\n",
        "from collections import Counter\n",
        "\n",
        "ros = RandomOverSampler(random_state=0)\n",
        "x_train, y_train = ros.fit_sample(x_train,y_train)\n",
        "sorted(Counter(y_train).items())"
      ],
      "execution_count": null,
      "outputs": []
    },
    {
      "cell_type": "code",
      "metadata": {
        "id": "Djz-yx_aU_qw",
        "colab_type": "code",
        "colab": {}
      },
      "source": [
        "# 欠採樣\n",
        "from imblearn.under_sampling import RandomUnderSampler\n",
        "from collections import Counter\n",
        "rus = RandomUnderSampler(random_state=0)\n",
        "x_train, y_train = rus.fit_sample(x_train,y_train)\n",
        " \n",
        "sorted(Counter(y_train).items())"
      ],
      "execution_count": null,
      "outputs": []
    },
    {
      "cell_type": "markdown",
      "metadata": {
        "id": "tNGKLjcZStMQ",
        "colab_type": "text"
      },
      "source": [
        "# 決策樹"
      ]
    },
    {
      "cell_type": "code",
      "metadata": {
        "id": "19RIXrmARbtC",
        "colab_type": "code",
        "colab": {}
      },
      "source": [
        "# 建立決策樹模型\n",
        "from sklearn.tree import DecisionTreeClassifier\n",
        "clf = DecisionTreeClassifier(max_depth=2)\n",
        "# 訓練決策樹模型\n",
        "clf.fit(x_train,y_train)\n",
        "# 查看預測正確率\n",
        "from sklearn.metrics import accuracy_score\n",
        "print(\"正確率:\",accuracy_score(clf.predict(x_test),y_test))"
      ],
      "execution_count": null,
      "outputs": []
    },
    {
      "cell_type": "code",
      "metadata": {
        "id": "f_JvapB6ScNc",
        "colab_type": "code",
        "colab": {}
      },
      "source": [
        "# 決策樹繪圖\n",
        "import graphviz\n",
        "from sklearn.tree import export_graphviz\n",
        "g = export_graphviz(clf,filled=True, feature_names=data1.columns[:-1], class_names=['1','2','3','4'])\n",
        "graphviz.Source(g)"
      ],
      "execution_count": null,
      "outputs": []
    },
    {
      "cell_type": "markdown",
      "metadata": {
        "id": "Ct7cGkp1SzvQ",
        "colab_type": "text"
      },
      "source": [
        "# 隨機森林"
      ]
    },
    {
      "cell_type": "code",
      "metadata": {
        "id": "SALL4fbFS3ug",
        "colab_type": "code",
        "colab": {}
      },
      "source": [
        "# 隨機森林\n",
        "from sklearn.model_selection import GridSearchCV\n",
        "from sklearn.ensemble import RandomForestClassifier\n",
        "from sklearn.model_selection import cross_val_score\n",
        "import numpy as np"
      ],
      "execution_count": null,
      "outputs": []
    },
    {
      "cell_type": "code",
      "metadata": {
        "id": "BGcTLnBSS6lA",
        "colab_type": "code",
        "colab": {}
      },
      "source": [
        "# 找最佳參數\n",
        "clf = RandomForestClassifier()\n",
        "p = {\"n_estimators\":range(10,20,2),\"max_depth\":range(5,20,2)} \n",
        "cv = GridSearchCV(clf, param_grid=p, cv=3)\n",
        "cv.fit(x_train, y_train)\n",
        "cv.best_params_"
      ],
      "execution_count": null,
      "outputs": []
    },
    {
      "cell_type": "code",
      "metadata": {
        "id": "897zv9zYsspy",
        "colab_type": "code",
        "colab": {}
      },
      "source": [
        "# randomforest model\n",
        "clf = RandomForestClassifier(n_estimators=30,max_depth=10)\n",
        "# np.average(cross_val_score(clf, x_train, y_train, cv=5))\n",
        "clf.fit(x_train, y_train)\n",
        "print(\"正確率:\",accuracy_score(clf.predict(x_test),y_test))"
      ],
      "execution_count": null,
      "outputs": []
    },
    {
      "cell_type": "code",
      "metadata": {
        "id": "YeFwy_DvW2aW",
        "colab_type": "code",
        "colab": {}
      },
      "source": [
        "# 查看randomforest變數重要性\n",
        "importances = clf.feature_importances_\n",
        "feat_labels = data.columns[1:]\n",
        "indices = np.argsort(importances)[::-1]\n",
        "for f in range(x_train.shape[1]):\n",
        "    print(\"%2d) %-*s %f\" % (f + 1, 30, feat_labels[indices[f]], importances[indices[f]]))"
      ],
      "execution_count": null,
      "outputs": []
    },
    {
      "cell_type": "markdown",
      "metadata": {
        "id": "rlM8FxuJWveJ",
        "colab_type": "text"
      },
      "source": [
        "# XgBoost "
      ]
    },
    {
      "cell_type": "code",
      "metadata": {
        "id": "EDHfcKifW0gf",
        "colab_type": "code",
        "colab": {}
      },
      "source": [
        "# XgBoost\n",
        "from xgboost import XGBRegressor\n",
        "import xgboost as xgb\n",
        "from sklearn.model_selection import GridSearchCV\n",
        "from xgboost import plot_importance\n",
        "from pandas import DataFrame"
      ],
      "execution_count": null,
      "outputs": []
    },
    {
      "cell_type": "code",
      "metadata": {
        "id": "oDFZHP5ZW8rW",
        "colab_type": "code",
        "colab": {}
      },
      "source": [
        "# 找最佳參數\n",
        "clf = XGBRegressor()\n",
        "p = {\"n_estimators\":range(10,20,2),\"max_depth\":range(5,20,2)} \n",
        "cv = GridSearchCV(clf, param_grid=p, cv=5)\n",
        "cv.fit(x_train, y_train)\n",
        "cv.best_params_"
      ],
      "execution_count": null,
      "outputs": []
    },
    {
      "cell_type": "code",
      "metadata": {
        "id": "EhaOy9utXCKV",
        "colab_type": "code",
        "colab": {}
      },
      "source": [
        "x_test = x_test[x_train.columns]\n",
        "clf_xg = xgb.XGBRegressor(\n",
        "    max_depth = 30,\n",
        "    n_estimators = 10,\n",
        "    min_child_weight=3,\n",
        "    colsample_bylevel=0.7,\n",
        "    colsample_bytree = 0.75, \n",
        "    gamma=0,   \n",
        "    learning_rate = 0.033,\n",
        "    max_delta_step=0,\n",
        "    nthread= 12,  \n",
        "    )\n",
        "clf_xg.fit(x_train,y_train,verbose=False)\n",
        "predictions = clf_xg.predict(x_test)\n",
        "print(\"正確率:\",accuracy_score(predictions.round(),y_test))"
      ],
      "execution_count": null,
      "outputs": []
    },
    {
      "cell_type": "code",
      "metadata": {
        "id": "fy08ZIXyXETW",
        "colab_type": "code",
        "colab": {}
      },
      "source": [
        "# 查看xgboost變數重要性\n",
        "importances = clf_xg.feature_importances_\n",
        "feat_labels = data.columns[0:-1]\n",
        "indices = np.argsort(importances)[::-1]\n",
        "for f in range(x_train.shape[1]):\n",
        "    print(\"%2d) %-*s %f\" % (f + 1, 30, feat_labels[indices[f]], importances[indices[f]]))"
      ],
      "execution_count": null,
      "outputs": []
    }
  ]
}